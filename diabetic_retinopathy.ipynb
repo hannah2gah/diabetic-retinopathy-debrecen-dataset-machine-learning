{
 "cells": [
  {
   "cell_type": "markdown",
   "id": "featured-president",
   "metadata": {},
   "source": [
    "# Kasus Klasifikasi Penyakit Mata <font color = red>_Diabetic retinopathy_ </font>\n",
    "## <font color = red>_Diabetic retinopathy_ </font> merupakan penyakit komplikasi dari diabetes yang mengakibatkan kebutaan\n",
    "### Proses klasifikasi yang dilakukan adalah menentukan mata dengan penyakit <font color = red>_Diabetic retinopathy_ </font> dan mata <font color = red> normal </font>"
   ]
  },
  {
   "cell_type": "code",
   "execution_count": null,
   "id": "double-commodity",
   "metadata": {},
   "outputs": [],
   "source": [
    "import pandas as pd\n",
    "import numpy as np\n",
    "import matplotlib as mpl\n",
    "import matplotlib.pyplot as plt\n",
    "import seaborn as sns\n",
    "from scipy.io import arff\n",
    "import functions as kp\n",
    "import warnings \n",
    "\n",
    "warnings.filterwarnings('ignore')\n",
    "%config IPCompleter.greedy=True"
   ]
  },
  {
   "cell_type": "code",
   "execution_count": null,
   "id": "adjustable-jaguar",
   "metadata": {},
   "outputs": [],
   "source": [
    "dr = pd.read_csv('study_case/dr_new.csv')"
   ]
  },
  {
   "cell_type": "code",
   "execution_count": null,
   "id": "structural-albania",
   "metadata": {},
   "outputs": [],
   "source": [
    "dr.head()"
   ]
  },
  {
   "cell_type": "code",
   "execution_count": null,
   "id": "affiliated-newark",
   "metadata": {},
   "outputs": [],
   "source": [
    "dr.shape"
   ]
  },
  {
   "cell_type": "markdown",
   "id": "injured-pregnancy",
   "metadata": {},
   "source": [
    "## Pada _dataset_ di atas, kolom dengan nama mengandung `MA` dan `exudate` merupakan gejala dari penyakit <font color = red> _Diabetic retinopathy_ </font> \n",
    "### MA merupakan singkatan dari _microaneurysm_, kondisi mata dengan munculnya bintik merah\n",
    "### _Exudate_ merupakan cairan akibat kebocoran pada pembuluh darah mata, dapat berwarna putih atau berwarna kuning\n",
    "![Gambar](study_case/images.png)"
   ]
  },
  {
   "cell_type": "code",
   "execution_count": null,
   "id": "mobile-honey",
   "metadata": {},
   "outputs": [],
   "source": [
    "dr.describe().T"
   ]
  },
  {
   "cell_type": "code",
   "execution_count": null,
   "id": "contrary-marks",
   "metadata": {},
   "outputs": [],
   "source": [
    "# Check the data\n",
    "dr.info()"
   ]
  },
  {
   "cell_type": "markdown",
   "id": "talented-immigration",
   "metadata": {},
   "source": [
    "**Tidak ada kolom berisi _null_ data, sehingga tidak perlu menambahkan nilai apapun**"
   ]
  },
  {
   "cell_type": "code",
   "execution_count": null,
   "id": "painful-packet",
   "metadata": {},
   "outputs": [],
   "source": [
    "dr.dtypes"
   ]
  },
  {
   "cell_type": "markdown",
   "id": "listed-basin",
   "metadata": {},
   "source": [
    "### Melakukan <font color=green> *Classification problems* </font>\n",
    "**Menentukan <font color=green>*feature*</font> `input` dan <font color= #0073e6>*target variabel*</font> `output`**"
   ]
  },
  {
   "cell_type": "code",
   "execution_count": null,
   "id": "leading-naples",
   "metadata": {},
   "outputs": [],
   "source": [
    "target = dr.diagnosis\n",
    "features = dr.drop(['diagnosis'], axis=1)"
   ]
  },
  {
   "cell_type": "code",
   "execution_count": null,
   "id": "ecological-membership",
   "metadata": {},
   "outputs": [],
   "source": [
    "target.head()"
   ]
  },
  {
   "cell_type": "code",
   "execution_count": null,
   "id": "corrected-keyboard",
   "metadata": {},
   "outputs": [],
   "source": [
    "features.head()"
   ]
  },
  {
   "cell_type": "markdown",
   "id": "relevant-theta",
   "metadata": {},
   "source": [
    "# *Exploratory Data Analysis*"
   ]
  },
  {
   "cell_type": "code",
   "execution_count": null,
   "id": "postal-florence",
   "metadata": {},
   "outputs": [],
   "source": [
    "# Plot the diagnosis\n",
    "g = sns.countplot(x='diagnosis', data=dr);\n",
    "DR, N = target.value_counts()\n",
    "plt.title('Distribution of Diagnosis', fontsize=20)\n",
    "g.set_xticklabels(['Normal Eye', 'Diabetic retinopathy Eye'])\n",
    "# plt.savefig('study_case/diagnosis_sample.png')\n",
    "\n",
    "print('Number of Normal Eye: ', N)\n",
    "print('Number of DR Eye: ', DR)"
   ]
  },
  {
   "cell_type": "markdown",
   "id": "simplified-nancy",
   "metadata": {},
   "source": [
    "**Distribusi dari hasil diagnosis terlihat tidak seimbang atau _imbalance classfication_** <br>\n",
    "\n",
    "Karena perbandingan target klasifikasi tidak begitu besar, maka tidak perlu melakukan teknik penyamaan jumlah label klasifikasi"
   ]
  },
  {
   "cell_type": "code",
   "execution_count": null,
   "id": "regulation-infrastructure",
   "metadata": {},
   "outputs": [],
   "source": [
    "plt.figure(figsize=(20,8))\n",
    "plt.title(\"Data Summary of Debrecen Diabetic retinopathy\", fontsize=15)\n",
    "sns.boxplot(data=dr, orient='v');\n",
    "plt.xticks(rotation=30);\n",
    "# plt.savefig('study_case/boxplot.png')"
   ]
  },
  {
   "cell_type": "code",
   "execution_count": null,
   "id": "resistant-geneva",
   "metadata": {},
   "outputs": [],
   "source": [
    "# sepearate categorical features\n",
    "num_features = features.drop(['qa', 'pre-screen', 'am/fm_class'], axis=1)"
   ]
  },
  {
   "cell_type": "code",
   "execution_count": null,
   "id": "chicken-nicholas",
   "metadata": {},
   "outputs": [],
   "source": [
    "num_features_norm = (num_features - num_features.mean()) / (num_features.std())"
   ]
  },
  {
   "cell_type": "code",
   "execution_count": null,
   "id": "intensive-adolescent",
   "metadata": {},
   "outputs": [],
   "source": [
    "plt.figure(figsize=(20,8))\n",
    "plt.title(\"Data Summary of Numerical Debrecen Diabetic retinopathy\", fontsize=15)\n",
    "sns.boxplot(data=num_features_norm, orient='v');\n",
    "plt.xticks(rotation=30);\n",
    "#plt.savefig('study_case/boxplot_norm.png')"
   ]
  },
  {
   "cell_type": "markdown",
   "id": "competitive-conservative",
   "metadata": {},
   "source": [
    "**Pada grafik di atas, beberapa fitur pada `exudate` memiliki _outliers_ yang cukup banyak, mungkin dapat mempengaruhi hasil prediksi**"
   ]
  },
  {
   "cell_type": "code",
   "execution_count": null,
   "id": "voluntary-office",
   "metadata": {},
   "outputs": [],
   "source": [
    "# Plot the diagnosis\n",
    "plt.figure(figsize=(10,5))\n",
    "h = sns.countplot(x='qa', hue=target, data=dr);\n",
    "S, B = features['qa'].value_counts()\n",
    "plt.title('Distribution of Quality Assessment', fontsize=20)\n",
    "h.set_xticklabels(['Bad', 'Sufficient'])\n",
    "# plt.savefig('study_case/qa_sample.png')\n",
    "\n",
    "print('Number of Bad Quality: ', B)\n",
    "print('Number of Sufficient Quality: ', S)"
   ]
  },
  {
   "cell_type": "markdown",
   "id": "cardiovascular-bulletin",
   "metadata": {},
   "source": [
    "**Dataset yang diambil memiliki kualitas gambar mata yang bagus, sehingga tidak perlu diperbaiki**"
   ]
  },
  {
   "cell_type": "code",
   "execution_count": null,
   "id": "traditional-gregory",
   "metadata": {},
   "outputs": [],
   "source": [
    "# Plot the diagnosis\n",
    "j = sns.countplot(x='pre-screen', hue=target, data=dr);\n",
    "A, L = features['pre-screen'].value_counts()\n",
    "plt.title('Distribution of Pre-screening', fontsize=20)\n",
    "j.set_xticklabels(['Retinal Lack Abnormality', 'Severe Retinal Abnormality'])\n",
    "# plt.savefig('study_case/ps_sample.png')\n",
    "\n",
    "print('Number of Severe Retinal Abnormality: ', A)\n",
    "print('Number of Retinal Lack Abnormality: ', L)"
   ]
  },
  {
   "cell_type": "code",
   "execution_count": null,
   "id": "dominican-shopping",
   "metadata": {},
   "outputs": [],
   "source": [
    "# Plot the diagnosis\n",
    "j = sns.countplot(x='am/fm_class', data=dr);\n",
    "N, DR = features['am/fm_class'].value_counts()\n",
    "plt.title('Distribution of AM/FM Based-Classification', fontsize=20)\n",
    "j.set_xticklabels(['Normal Eye', 'Diabetic retinopathy Eye'])\n",
    "# plt.savefig('study_case/ps_sample.png')\n",
    "\n",
    "print('Number of Normal Eye: ', N)\n",
    "print('Number of Diabetic retinopathy Eye: ', DR)"
   ]
  },
  {
   "cell_type": "markdown",
   "id": "reserved-paragraph",
   "metadata": {},
   "source": [
    "**Distribusi grafik di atas menjelaskan proses *screening* dan hasil diagnosis dengan menggunakan metode AM/FM**"
   ]
  },
  {
   "cell_type": "code",
   "execution_count": null,
   "id": "patient-nightlife",
   "metadata": {},
   "outputs": [],
   "source": [
    "plt.title('Distribution of Euclidean between Macula and Optic Disc', fontsize=20)\n",
    "sns.histplot(data=dr, x='eucli_of_mac_optic_disc', hue='diagnosis', kde=True);\n",
    "# plt.savefig('study_case/hist_mac.png')"
   ]
  },
  {
   "cell_type": "code",
   "execution_count": null,
   "id": "metallic-bryan",
   "metadata": {},
   "outputs": [],
   "source": [
    "plt.title('Distribution of Diameter of Optic Disc', fontsize=20)\n",
    "sns.histplot(data=dr, x='diam_optic_disc', hue='diagnosis', kde=True);\n",
    "# plt.savefig('study_case/hist_optic.png')"
   ]
  },
  {
   "cell_type": "markdown",
   "id": "meaning-senate",
   "metadata": {},
   "source": [
    "### Di bawah ini, akan mengecek hubungan antara gejala-gejala yang muncul pada mata _Diabetic retinopathy_"
   ]
  },
  {
   "cell_type": "code",
   "execution_count": null,
   "id": "impressive-elizabeth",
   "metadata": {},
   "outputs": [],
   "source": [
    "# Collect column with the symptoms\n",
    "syms = [sym for sym in dr.columns if sym.startswith('MA_') or sym.startswith('exudate_') ]\n",
    "\n",
    "# Collect column with MAs\n",
    "MAs = [ma for ma in dr.columns if ma.startswith('MA_')]\n",
    "\n",
    "# Collect column with exus\n",
    "exus = [exu for exu in dr.columns if exu.startswith('exudate_')]\n",
    "\n",
    "print('syms = ', syms, '\\n')\n",
    "print('MAs = ', MAs, '\\n')\n",
    "print('exus = ', exus, '\\n')"
   ]
  },
  {
   "cell_type": "code",
   "execution_count": null,
   "id": "perfect-democrat",
   "metadata": {},
   "outputs": [],
   "source": [
    "# Make new list of MAs and exus which include diagnosis\n",
    "diag_syms = syms[:]\n",
    "diag_MAs = MAs[:]\n",
    "diag_exus = exus[:]\n",
    "\n",
    "# Insert the diagnosis\n",
    "diag_syms.insert(6, 'diagnosis')\n",
    "diag_MAs.insert(6, 'diagnosis')\n",
    "diag_exus.insert(6, 'diagnosis')"
   ]
  },
  {
   "cell_type": "code",
   "execution_count": null,
   "id": "consolidated-course",
   "metadata": {},
   "outputs": [],
   "source": [
    "plt.figure(figsize=(40,25));\n",
    "sns.pairplot(dr[diag_syms], hue='diagnosis');\n",
    "# plt.savefig('study_case/pair.png')"
   ]
  },
  {
   "cell_type": "code",
   "execution_count": null,
   "id": "understanding-cinema",
   "metadata": {},
   "outputs": [],
   "source": [
    "corr_syms = features[syms].corr()\n",
    "plt.figure(figsize=(15,10))\n",
    "sns.heatmap(corr_syms, annot=True, linewidths=.7, fmt=\".1f\");\n",
    "# plt.savefig('study_case/heatm.png')"
   ]
  },
  {
   "cell_type": "markdown",
   "id": "variable-indication",
   "metadata": {},
   "source": [
    "**Korelasi antara gejala MA dan _exudate_ lemah, tetapi antara gejala dengan nama yang sama ditemukan korelasi yang cukup kuat.** <br>\n",
    "</br>\n",
    " Untuk kolom dengan nama `exudate` : <br>\n",
    " * <font color = #0073e6> exudate_0.5 </font> dengan <font color = #0073e6> *exudate_0.3* </font>, <font color = #0073e6> *exudate_0.4* </font>, dan <font color = #0073e6> *exudate_0.8* </font> \n",
    " * <font color = #0073e6> exudate_0.6 </font> dengan <font color = #0073e6> *exudate_0.5* </font>, <font color = #0073e6> *exudate_0.7* </font>, <font color = #0073e6> *exudate_0.8* </font>, dan <font color = #0073e6> *exudate_0.9* </font> \n",
    " * <font color = #0073e6> exudate_0.7 </font> dengan <font color = #0073e6> *exudate_0.6* </font>, <font color = #0073e6> *exudate_0.8* </font>, dan <font color = #0073e6> *exudate_0.9* </font> \n",
    " * <font color = #0073e6> exudate_0.8 </font> dengan <font color = #0073e6> *exudate_0.6* </font>, <font color = #0073e6> *exudate_0.7* </font>, <font color = #0073e6> *exudate_0.9* </font>, dan <font color = #0073e6> *exudate_1* </font> \n",
    " * <font color = #0073e6> exudate_0.9 </font> dengan <font color = #0073e6> *exudate_0.7* </font>, <font color = #0073e6> *exudate_0.8* </font>, dan <font color = #0073e6> *exudate_1* </font> \n",
    " * <font color = #0073e6> exudate_1 </font> dengan <font color = #0073e6> *exudate_0.8* </font>, dan <font color = #0073e6> *exudate_0.9* </font> <br> </br>\n",
    " Untuk kolom dengan nama `MA` : semua fitur saling berkorelasi"
   ]
  },
  {
   "cell_type": "markdown",
   "id": "informational-entertainment",
   "metadata": {},
   "source": [
    "### Fitur dengan kolom `exudate` dapat dipertahankan beberapa, sedangkan fitur dengan kolom `MA` dapat dipilih satu fitur saja"
   ]
  },
  {
   "cell_type": "code",
   "execution_count": null,
   "id": "atlantic-partnership",
   "metadata": {},
   "outputs": [],
   "source": [
    "sns.pairplot(dr[diag_MAs], hue='diagnosis');\n",
    "# plt.savefig('study_case/pairplot_MA.png')"
   ]
  },
  {
   "cell_type": "code",
   "execution_count": null,
   "id": "split-scoop",
   "metadata": {},
   "outputs": [],
   "source": [
    "sns.pairplot(dr[diag_exus], hue='diagnosis');\n",
    "# plt.savefig('study_case/pairplot_exu.png')"
   ]
  },
  {
   "cell_type": "markdown",
   "id": "loaded-quest",
   "metadata": {},
   "source": [
    "# *Data Pre-processing*\n",
    "\n",
    "Memilih data yang akan digunakan dalam pelatihan model _machine learning_"
   ]
  },
  {
   "cell_type": "markdown",
   "id": "statewide-printer",
   "metadata": {},
   "source": [
    "## _Feature Scaling_\n",
    "Melakukan normalisasi data terhadap fitur yang numerikal "
   ]
  },
  {
   "cell_type": "code",
   "execution_count": null,
   "id": "central-celtic",
   "metadata": {},
   "outputs": [],
   "source": [
    "# split numerical feature \n",
    "num_features = features.drop(['qa', 'pre-screen', 'am/fm_class'], axis=1)"
   ]
  },
  {
   "cell_type": "code",
   "execution_count": null,
   "id": "quick-costume",
   "metadata": {},
   "outputs": [],
   "source": [
    "num_features.head()"
   ]
  },
  {
   "cell_type": "code",
   "execution_count": null,
   "id": "retired-mobility",
   "metadata": {},
   "outputs": [],
   "source": [
    "norm_feature = kp.normalize(num_features)"
   ]
  },
  {
   "cell_type": "code",
   "execution_count": null,
   "id": "early-memory",
   "metadata": {},
   "outputs": [],
   "source": [
    "norm_feature.head()"
   ]
  },
  {
   "cell_type": "code",
   "execution_count": null,
   "id": "damaged-listing",
   "metadata": {},
   "outputs": [],
   "source": [
    "norm_feature.tail()"
   ]
  },
  {
   "cell_type": "code",
   "execution_count": null,
   "id": "through-serial",
   "metadata": {},
   "outputs": [],
   "source": [
    "header = ['MA_0.5', 'MA_0.6', 'MA_0.7','MA_0.8', 'MA_0.9', 'MA_1', \n",
    "          'exudate_0.3', 'exudate_0.4','exudate_0.5', 'exudate_0.6', 'exudate_0.7', 'exudate_0.8', 'exudate_0.9', 'exudate_1',\n",
    "          'eucli_of_mac_optic_disc', 'diam_optic_disc']"
   ]
  },
  {
   "cell_type": "code",
   "execution_count": null,
   "id": "optimum-xerox",
   "metadata": {},
   "outputs": [],
   "source": [
    "norm_feature.columns = header\n",
    "\n",
    "norm_feature.head()"
   ]
  },
  {
   "cell_type": "code",
   "execution_count": null,
   "id": "rolled-cattle",
   "metadata": {},
   "outputs": [],
   "source": [
    "cat_feature = ['qa','pre-screen','am/fm_class']\n",
    "# combine all feature \n",
    "feature_new = norm_feature.join(dr[cat_feature])"
   ]
  },
  {
   "cell_type": "code",
   "execution_count": null,
   "id": "charged-squad",
   "metadata": {},
   "outputs": [],
   "source": [
    "feature_new.head()"
   ]
  },
  {
   "cell_type": "code",
   "execution_count": null,
   "id": "operational-plasma",
   "metadata": {},
   "outputs": [],
   "source": [
    "# make new normalize dataset\n",
    "dr_norm = feature_new.join(target)"
   ]
  },
  {
   "cell_type": "code",
   "execution_count": null,
   "id": "hundred-manchester",
   "metadata": {},
   "outputs": [],
   "source": [
    "dr_norm.head()"
   ]
  },
  {
   "cell_type": "code",
   "execution_count": null,
   "id": "usual-tours",
   "metadata": {},
   "outputs": [],
   "source": [
    "# Save to .csv\n",
    "dr_norm.to_csv('study_case/dr_norm.csv', index = False)"
   ]
  },
  {
   "cell_type": "markdown",
   "id": "surprised-resolution",
   "metadata": {},
   "source": [
    "## *Feature Selection*"
   ]
  },
  {
   "cell_type": "markdown",
   "id": "handled-baseball",
   "metadata": {},
   "source": [
    "### *Filter Methods*\n",
    "\n",
    "Karena dataset ini memiliki *input* berupa numerikal dan *output* berupa kategorikal, maka dilakukan proses *filter* dengan <font color = #0073e6>*__Mutual Information__*</font>"
   ]
  },
  {
   "cell_type": "code",
   "execution_count": null,
   "id": "elect-intro",
   "metadata": {},
   "outputs": [],
   "source": [
    "from sklearn.model_selection import train_test_split\n",
    "from sklearn.feature_selection import SelectKBest, mutual_info_classif\n",
    "from matplotlib import pyplot"
   ]
  },
  {
   "cell_type": "code",
   "execution_count": null,
   "id": "retired-rhythm",
   "metadata": {},
   "outputs": [],
   "source": [
    "feature_new, target, X, y = kp.get_dr_dataset('study_case/dr_norm.csv')"
   ]
  },
  {
   "cell_type": "code",
   "execution_count": null,
   "id": "editorial-height",
   "metadata": {},
   "outputs": [],
   "source": [
    "# split into train and test sets\n",
    "X_train, X_test, y_train, y_test= train_test_split(X, y, test_size=0.33, random_state=1)\n",
    "\n",
    "X_train.shape, X_test.shape"
   ]
  },
  {
   "cell_type": "code",
   "execution_count": null,
   "id": "accessory-creator",
   "metadata": {},
   "outputs": [],
   "source": [
    "X_train_mi, X_test_mi, fs_mi = kp.select_features_mutual(X_train, y_train, X_test)\n",
    "# calculate the feature score\n",
    "for i in range(len(fs_mi.scores_)):\n",
    "    print('Feature %d: %f' % (i, fs_mi.scores_[i]))"
   ]
  },
  {
   "cell_type": "code",
   "execution_count": null,
   "id": "distributed-petite",
   "metadata": {},
   "outputs": [],
   "source": [
    "# plot the scores\n",
    "pyplot.bar([i for i in range(len(fs_mi.scores_))], fs_mi.scores_)\n",
    "pyplot.show()"
   ]
  },
  {
   "cell_type": "markdown",
   "id": "tender-playlist",
   "metadata": {},
   "source": [
    "Skor tiap fitur berbeda-beda"
   ]
  },
  {
   "cell_type": "markdown",
   "id": "turkish-patient",
   "metadata": {},
   "source": [
    "**Melakukan penentuan pemilihan fitur jika skor fitur berbeda**"
   ]
  },
  {
   "cell_type": "code",
   "execution_count": null,
   "id": "finnish-funeral",
   "metadata": {},
   "outputs": [],
   "source": [
    "# import Logistic Regression\n",
    "from sklearn.linear_model import LogisticRegression\n",
    "from sklearn.metrics import accuracy_score"
   ]
  },
  {
   "cell_type": "code",
   "execution_count": null,
   "id": "loving-socket",
   "metadata": {},
   "outputs": [],
   "source": [
    "# define number of features of features to evaluate\n",
    "num_features = [i+1 for i in range(X.shape[1])]\n",
    "\n",
    "num_features"
   ]
  },
  {
   "cell_type": "code",
   "execution_count": null,
   "id": "bright-shock",
   "metadata": {},
   "outputs": [],
   "source": [
    "# fit the model using all features\n",
    "model_all = LogisticRegression(solver='liblinear')\n",
    "model_all.fit(X_train, y_train)\n",
    "# evaluate the model\n",
    "yhat_all = model_all.predict(X_test)\n",
    "# evaluate predictions\n",
    "accuracy = accuracy_score(y_test, yhat_all)\n",
    "print('Accuracy: %.2f' % (accuracy*100))"
   ]
  },
  {
   "cell_type": "code",
   "execution_count": null,
   "id": "composed-williams",
   "metadata": {},
   "outputs": [],
   "source": [
    "mi_res = []\n",
    "\n",
    "for num in num_features:\n",
    "    X_train_mi, X_test_mi, fs_mi= kp.select_features_mutual(X_train, y_train, X_test, num)\n",
    "    # fit the model selected-features Mutual Information\n",
    "    model_mi= LogisticRegression(solver='liblinear')\n",
    "    model_mi.fit(X_train_mi, y_train)\n",
    "    # evaluate the model\n",
    "    yhat_mi= model_mi.predict(X_test_mi)\n",
    "    # evaluate predictions\n",
    "    accuracy = accuracy_score(y_test, yhat_mi)\n",
    "    mi_res.append(accuracy*100)\n",
    "    print('Feature %d with accuracy: %.2f' % (num, accuracy*100))"
   ]
  },
  {
   "cell_type": "markdown",
   "id": "victorian-farmer",
   "metadata": {},
   "source": [
    "__Mencari relasi antara fitur-fitur yang terpilih dengan akurasi dari klasifikasi__"
   ]
  },
  {
   "cell_type": "code",
   "execution_count": null,
   "id": "basic-princeton",
   "metadata": {},
   "outputs": [],
   "source": [
    "from sklearn.model_selection import cross_val_score, RepeatedStratifiedKFold\n",
    "from sklearn.pipeline import Pipeline"
   ]
  },
  {
   "cell_type": "code",
   "execution_count": null,
   "id": "owned-sessions",
   "metadata": {},
   "outputs": [],
   "source": [
    "#enumerate each number of features\n",
    "results=list()\n",
    "\n",
    "for num_feature in num_features:\n",
    "    # create pipeline\n",
    "    model = LogisticRegression(solver='liblinear')\n",
    "    fs=SelectKBest(score_func=mutual_info_classif, k=num_feature)\n",
    "    pipeline=Pipeline(steps=[('mi',fs),('lr',model)])\n",
    "    \n",
    "    # evaluate the model\n",
    "    scores=kp.evaluate_model(X, y, pipeline)\n",
    "    results.append(scores)\n",
    "    # summarize the results\n",
    "    print('>%d %.3f (%.3f)' % (num_feature, np.mean(scores)*100, np.std(scores)))"
   ]
  },
  {
   "cell_type": "code",
   "execution_count": null,
   "id": "psychological-blanket",
   "metadata": {},
   "outputs": [],
   "source": [
    "#enumerate each number of features with ANOVA\n",
    "results=list()\n",
    "\n",
    "for num_feature in num_features:\n",
    "    # create pipeline\n",
    "    model = LogisticRegression(solver='liblinear')\n",
    "    fs=SelectKBest(score_func=f_classif, k=num_feature)\n",
    "    pipeline=Pipeline(steps=[('mi',fs),('lr',model)])\n",
    "    \n",
    "    # evaluate the model\n",
    "    scores=kp.evaluate_model(X, y, pipeline)\n",
    "    results.append(scores)\n",
    "    # summarize the results\n",
    "    print('>%d %.3f (%.3f)' % (num_feature, np.mean(scores)*100, np.std(scores)))"
   ]
  },
  {
   "cell_type": "code",
   "execution_count": null,
   "id": "detected-generation",
   "metadata": {},
   "outputs": [],
   "source": [
    "# plot model performance for comparison\n",
    "pyplot.boxplot(results, labels=num_features, showmeans=True)\n",
    "pyplot.show()"
   ]
  },
  {
   "cell_type": "markdown",
   "id": "applicable-virus",
   "metadata": {},
   "source": [
    "Dipilih 15 fitur yang terbaik"
   ]
  },
  {
   "cell_type": "code",
   "execution_count": null,
   "id": "hired-coordinate",
   "metadata": {},
   "outputs": [],
   "source": [
    "fs_15=SelectKBest(score_func=f_classif, k=15)\n",
    "fs_15.fit(X_train, y_train)\n",
    "print(fs_15.get_support(indices=True))"
   ]
  },
  {
   "cell_type": "markdown",
   "id": "precise-defensive",
   "metadata": {},
   "source": [
    "7 8 14 15 "
   ]
  },
  {
   "cell_type": "code",
   "execution_count": null,
   "id": "enabling-gross",
   "metadata": {},
   "outputs": [],
   "source": [
    "feature_15 = ['exudate_0.4', 'exudate_0.5', 'eucli_of_mac_optic_disc', 'diam_optic_disc']"
   ]
  },
  {
   "cell_type": "code",
   "execution_count": null,
   "id": "interim-testimony",
   "metadata": {},
   "outputs": [],
   "source": [
    "feature_fs = feature_new.drop(feature_15, axis=1)"
   ]
  },
  {
   "cell_type": "code",
   "execution_count": null,
   "id": "modern-accuracy",
   "metadata": {},
   "outputs": [],
   "source": [
    "feature_fs.head()"
   ]
  },
  {
   "cell_type": "markdown",
   "id": "better-supply",
   "metadata": {},
   "source": [
    "__Membuang fitur yang disarankan oleh _filter method___"
   ]
  },
  {
   "cell_type": "markdown",
   "id": "modern-graduate",
   "metadata": {},
   "source": [
    "# *Train-Test Data Split*\n",
    "\n",
    "Pada tahap ini akan dilakukan metode train test split, lalu akan fitur-fitur yang terpilih dengan melakukan metode **SMOTE Oversampling**"
   ]
  },
  {
   "cell_type": "code",
   "execution_count": null,
   "id": "technological-knowing",
   "metadata": {},
   "outputs": [],
   "source": [
    "target_map = target.map({\"b'1'\": 1, \"b'0'\": 0})"
   ]
  },
  {
   "cell_type": "code",
   "execution_count": null,
   "id": "female-medicine",
   "metadata": {},
   "outputs": [],
   "source": [
    "# Split data train 80% and test 20%\n",
    "X_train_all, X_test, y_train_all, y_test = train_test_split(feature_new, target_map, test_size=0.2, random_state=2)"
   ]
  },
  {
   "cell_type": "code",
   "execution_count": null,
   "id": "starting-skiing",
   "metadata": {},
   "outputs": [],
   "source": [
    "X_train_all.shape, X_test_all.shape"
   ]
  },
  {
   "cell_type": "code",
   "execution_count": null,
   "id": "veterinary-carrier",
   "metadata": {},
   "outputs": [],
   "source": [
    "y_train_all.shape, y_test_all.shape"
   ]
  },
  {
   "cell_type": "markdown",
   "id": "material-separate",
   "metadata": {},
   "source": [
    "# Membandingkan Model *Machine Learning*\n",
    "### Akan dilakukan proses perbandingan model-model ML dengan algoritma berikut:\n",
    "* KNN _Classificaton_\n",
    "* _Decision Tree Classification_\n",
    "* _Random Forest Classification_\n",
    "* _Naive Bayes Classification_\n",
    "* _Logistic Regression Classification_\n",
    "* _Support Vector Machine Classification_\n",
    "* _Artificial Neural Network_"
   ]
  },
  {
   "cell_type": "code",
   "execution_count": null,
   "id": "narrative-daniel",
   "metadata": {},
   "outputs": [],
   "source": [
    "from sklearn.metrics import confusion_matrix, accuracy_score, recall_score, precision_score, f1_score\n",
    "from sklearn.neighbors import KNeighborsClassifier\n",
    "from sklearn.tree import DecisionTreeClassifier, plot_tree\n",
    "from sklearn.ensemble import RandomForestClassifier\n",
    "from sklearn.naive_bayes import GaussianNB\n",
    "from sklearn.linear_model import LogisticRegression\n",
    "from sklearn.svm import SVC"
   ]
  },
  {
   "cell_type": "markdown",
   "id": "located-vehicle",
   "metadata": {},
   "source": [
    "## *k-NN Classification*"
   ]
  },
  {
   "cell_type": "code",
   "execution_count": null,
   "id": "civilian-footwear",
   "metadata": {},
   "outputs": [],
   "source": [
    "# train knn model all features\n",
    "knn_res_all, knn_score = kp.train_model_knn(X_train_all, y_train_all)"
   ]
  },
  {
   "cell_type": "markdown",
   "id": "instructional-advisory",
   "metadata": {},
   "source": [
    "Skor akurasi validasi paling bagus ditemukan saat n_neighbors = 49 dengan akurasi 62,899%"
   ]
  },
  {
   "cell_type": "code",
   "execution_count": null,
   "id": "civil-magic",
   "metadata": {},
   "outputs": [],
   "source": [
    "# plot knn validation\n",
    "k_range = [i for i in range(len(knn_res_all))]\n",
    "#plt.figure(figsize=(10,7))\n",
    "plt.plot(k_range, knn_res_all, marker='o');\n",
    "plt.title('Grafik Akurasi Validasi k-NN')\n",
    "plt.xlabel('Value of K for KNN')\n",
    "plt.ylabel('Cross-Validated Accuracy')\n",
    "plt.show()"
   ]
  },
  {
   "cell_type": "code",
   "execution_count": null,
   "id": "amended-judgment",
   "metadata": {},
   "outputs": [],
   "source": [
    "model_knn = KNeighborsClassifier(n_neighbors=49)\n",
    "knn_all_acc, knn_all_rec, knn_all_prec, knn_all_f1, knn_all_cm = kp.test_model(model_knn, X_train_all, y_train_all, X_test_all, y_test_all)"
   ]
  },
  {
   "cell_type": "code",
   "execution_count": null,
   "id": "appropriate-niagara",
   "metadata": {},
   "outputs": [],
   "source": [
    "print('Accuracy score: ', knn_all_acc*100)\n",
    "print('Recall score: ', knn_all_rec*100)\n",
    "print('Precision score: ', knn_all_prec*100)\n",
    "print('F1 score: ', knn_all_f1*100)\n",
    "sns.heatmap(knn_all_cm, annot=True, fmt='d')\n",
    "plt.savefig('study_case/knn_all_cm.png')"
   ]
  },
  {
   "cell_type": "code",
   "execution_count": null,
   "id": "egyptian-bidding",
   "metadata": {},
   "outputs": [],
   "source": [
    "# train knn model with selected features\n",
    "knn_res_fs, knn_score_fs = kp.train_model_knn(X_train_fs, y_train_fs)"
   ]
  },
  {
   "cell_type": "markdown",
   "id": "african-negotiation",
   "metadata": {},
   "source": [
    "Skor akurasi validasi paling bagus ditemukan saat n_neighbors = 36 dengan skor 66,159%"
   ]
  },
  {
   "cell_type": "code",
   "execution_count": null,
   "id": "convinced-straight",
   "metadata": {},
   "outputs": [],
   "source": [
    "# plot knn validation\n",
    "k_range = [i for i in range(len(knn_res_fs))]\n",
    "#plt.figure(figsize=(10,7))\n",
    "plt.plot(k_range, knn_res_fs, color='red', marker='o');\n",
    "plt.title('Grafik Akurasi Validasi k-NN')\n",
    "plt.xlabel('Value of K for KNN')\n",
    "plt.ylabel('Cross-Validated Accuracy')\n",
    "plt.show()"
   ]
  },
  {
   "cell_type": "code",
   "execution_count": null,
   "id": "continental-bride",
   "metadata": {},
   "outputs": [],
   "source": [
    "model = KNeighborsClassifier(n_neighbors=36)\n",
    "knn_fs_acc, knn_fs_rec, knn_fs_prec, knn_fs_f1, knn_fs_cm = kp.test_model(model, X_train_fs, y_train_fs, X_test_fs, y_test_fs)"
   ]
  },
  {
   "cell_type": "code",
   "execution_count": null,
   "id": "laden-jamaica",
   "metadata": {},
   "outputs": [],
   "source": [
    "print('Accuracy score: ', knn_fs_acc*100)\n",
    "print('Recall score: ', knn_fs_rec*100)\n",
    "print('Precision score: ', knn_fs_prec*100)\n",
    "print('F1 score: ', knn_fs_f1*100)\n",
    "sns.heatmap(knn_fs_cm, annot=True, fmt='d')\n",
    "plt.savefig('study_case/knn_fs_cm.png')"
   ]
  },
  {
   "cell_type": "markdown",
   "id": "personal-bargain",
   "metadata": {},
   "source": [
    "## *Decision Tree Classification*"
   ]
  },
  {
   "cell_type": "code",
   "execution_count": null,
   "id": "italic-miracle",
   "metadata": {},
   "outputs": [],
   "source": [
    "# train decision tree model all features\n",
    "dt_res_all, dt_score = kp.train_model_dt(X_train_all, y_train_all, quality=1)"
   ]
  },
  {
   "cell_type": "markdown",
   "id": "individual-thickness",
   "metadata": {},
   "source": [
    "Skor akurasi validasi yang bagus ditemukan jika dicek berdasarkan _gini impurity_ saat max_depth = 4 dengan skor 63,188%"
   ]
  },
  {
   "cell_type": "code",
   "execution_count": null,
   "id": "growing-moldova",
   "metadata": {},
   "outputs": [],
   "source": [
    "# plot knn validation\n",
    "depth_range = [i for i in range(len(dt_res_all))]\n",
    "#plt.figure(figsize=(10,7))\n",
    "plt.plot(depth_range, dt_res_all, color='green', marker='o')\n",
    "plt.title('Grafik Akurasi Validasi Decision Tree')\n",
    "plt.xlabel('Value of depth for Decision Tree')\n",
    "plt.ylabel('Cross-Validated Accuracy')\n",
    "plt.show()"
   ]
  },
  {
   "cell_type": "code",
   "execution_count": null,
   "id": "offshore-straight",
   "metadata": {},
   "outputs": [],
   "source": [
    "model_dt_all = DecisionTreeClassifier(random_state=1, max_depth=4)\n",
    "dt_all_acc, dt_all_rec, dt_all_prec, dt_all_f1, dt_all_cm = kp.test_model(model_dt_all, X_train_all, y_train_all, X_test_all, y_test_all)"
   ]
  },
  {
   "cell_type": "code",
   "execution_count": null,
   "id": "local-advance",
   "metadata": {},
   "outputs": [],
   "source": [
    "from sklearn.tree import plot_tree"
   ]
  },
  {
   "cell_type": "code",
   "execution_count": null,
   "id": "modified-theater",
   "metadata": {},
   "outputs": [],
   "source": [
    "model_dt_all = model_dt_all.fit(X_train_all, y_train_all)\n",
    "plot_tree(model_dt_all);"
   ]
  },
  {
   "cell_type": "code",
   "execution_count": null,
   "id": "unusual-nurse",
   "metadata": {},
   "outputs": [],
   "source": [
    "print('Accuracy score: ', dt_all_acc*100)\n",
    "print('Recall score: ', dt_all_rec*100)\n",
    "print('Precision score: ', dt_all_prec*100)\n",
    "print('F1 score: ', dt_all_f1*100)\n",
    "sns.heatmap(dt_all_cm, annot=True, fmt='d')\n",
    "plt.savefig('study_case/dt_all_cm.png')"
   ]
  },
  {
   "cell_type": "code",
   "execution_count": null,
   "id": "fitted-pontiac",
   "metadata": {},
   "outputs": [],
   "source": [
    "# train decision tree model selected features\n",
    "dt_res_fs, dt_score_fs = kp.train_model_dt(X_train_fs, y_train_fs, quality=1)"
   ]
  },
  {
   "cell_type": "markdown",
   "id": "regional-packaging",
   "metadata": {},
   "source": [
    "Skor akurasi validasi yang bagus ditemukan jika dicek berdasarkan _gini impurity_ saat max_depth = 2 dengan skor 64,71%"
   ]
  },
  {
   "cell_type": "code",
   "execution_count": null,
   "id": "insured-sperm",
   "metadata": {},
   "outputs": [],
   "source": [
    "# plot decision tree validation\n",
    "depth_range = [i for i in range(len(dt_res_fs))]\n",
    "# plt.figure(figsize=(10,7))\n",
    "plt.plot(depth_range, dt_res_fs, marker='o')\n",
    "plt.title('Grafik Akurasi Validasi Decision Tree')\n",
    "plt.xlabel('Value of depth for Decision Tree')\n",
    "plt.ylabel('Cross-Validated Accuracy')\n",
    "plt.show()"
   ]
  },
  {
   "cell_type": "code",
   "execution_count": null,
   "id": "junior-comparison",
   "metadata": {},
   "outputs": [],
   "source": [
    "model_dt_fs = DecisionTreeClassifier(random_state=1, #criterion='entropy', \n",
    "                               max_depth=2)\n",
    "dt_fs_acc, dt_fs_rec, dt_fs_prec, dt_fs_f1, dt_fs_cm = kp.test_model(model_dt_fs, X_train_fs, y_train_fs, X_test_fs, y_test_fs)"
   ]
  },
  {
   "cell_type": "code",
   "execution_count": null,
   "id": "figured-recipe",
   "metadata": {},
   "outputs": [],
   "source": [
    "model_dt_fs = model_dt_fs.fit(X_train_fs, y_train_fs)\n",
    "plot_tree(model_dt_fs);"
   ]
  },
  {
   "cell_type": "code",
   "execution_count": null,
   "id": "labeled-grill",
   "metadata": {},
   "outputs": [],
   "source": [
    "print('Accuracy score: ', dt_fs_acc*100)\n",
    "print('Recall score: ', dt_fs_rec*100)\n",
    "print('Precision score: ', dt_fs_prec*100)\n",
    "print('F1 score: ', dt_fs_f1*100)\n",
    "sns.heatmap(dt_fs_cm, annot=True, fmt='d')\n",
    "plt.savefig('study_case/dt_fs_cm.png')"
   ]
  },
  {
   "cell_type": "markdown",
   "id": "familiar-hamburg",
   "metadata": {},
   "source": [
    "## *Random Forest Classification*"
   ]
  },
  {
   "cell_type": "code",
   "execution_count": null,
   "id": "generic-virus",
   "metadata": {},
   "outputs": [],
   "source": [
    "# train random forest model all features\n",
    "rf_res_all, rf_score = kp.train_model_rf(X_train_all, y_train_all)"
   ]
  },
  {
   "cell_type": "markdown",
   "id": "expanded-scholar",
   "metadata": {},
   "source": [
    "Skor akurasi validasi yang bagus ditemukan jika dicek berdasarkan _gini impurity_ saat max_depth = 10 dengan skor 66,993%"
   ]
  },
  {
   "cell_type": "code",
   "execution_count": null,
   "id": "marine-strike",
   "metadata": {},
   "outputs": [],
   "source": [
    "# plot random forest validation\n",
    "depth_range = [i for i in range(len(rf_res_all))]\n",
    "#plt.figure(figsize=(10,7))\n",
    "plt.plot(depth_range, rf_res_all, marker='o')\n",
    "plt.title('Grafik Akurasi Validasi Random Forest')\n",
    "plt.xlabel('Value of depth for Random Forest')\n",
    "plt.ylabel('Cross-Validated Accuracy')\n",
    "plt.show()"
   ]
  },
  {
   "cell_type": "code",
   "execution_count": null,
   "id": "separate-glossary",
   "metadata": {},
   "outputs": [],
   "source": [
    "model = RandomForestClassifier(random_state=1, max_depth=10)\n",
    "rf_all_acc, rf_all_rec, rf_all_prec, rf_all_f1, rf_all_cm = kp.test_model(model, X_train_all, y_train_all, X_test_all, y_test_all)"
   ]
  },
  {
   "cell_type": "code",
   "execution_count": null,
   "id": "short-capture",
   "metadata": {},
   "outputs": [],
   "source": [
    "print('Accuracy score: ', rf_all_acc*100)\n",
    "print('Recall score: ', rf_all_rec*100)\n",
    "print('Precision score: ', rf_all_prec*100)\n",
    "print('F1 score: ', rf_all_f1*100)\n",
    "sns.heatmap(rf_all_cm, annot=True, fmt='d')\n",
    "plt.savefig('study_case/rf_all_cm.png')"
   ]
  },
  {
   "cell_type": "code",
   "execution_count": null,
   "id": "complete-keyboard",
   "metadata": {},
   "outputs": [],
   "source": [
    "# train random forest model selected features\n",
    "rf_res_fs, rf_score = kp.train_model_rf(X_train_fs, y_train_fs)"
   ]
  },
  {
   "cell_type": "markdown",
   "id": "sublime-crime",
   "metadata": {},
   "source": [
    "Skor akurasi validasi yang bagus ditemukan jika dicek berdasarkan _gini impurity_ saat max_depth = 10 dengan skor 68,370%"
   ]
  },
  {
   "cell_type": "code",
   "execution_count": null,
   "id": "buried-killer",
   "metadata": {},
   "outputs": [],
   "source": [
    "# plot random forest validation\n",
    "depth_range = [i for i in range(len(rf_res_fs))]\n",
    "#plt.figure(figsize=(10,7))\n",
    "plt.plot(depth_range, rf_res_fs, color='olive', marker='o')\n",
    "plt.title('Grafik Akurasi Validasi Random Forest')\n",
    "plt.xlabel('Value of depth for Random Forest')\n",
    "plt.ylabel('Cross-Validated Accuracy')\n",
    "plt.show()"
   ]
  },
  {
   "cell_type": "code",
   "execution_count": null,
   "id": "native-medicare",
   "metadata": {},
   "outputs": [],
   "source": [
    "model = RandomForestClassifier(random_state=2, #criterion='entropy', \n",
    "                               max_depth=10)\n",
    "rf_fs_acc, rf_fs_rec, rf_fs_prec, rf_fs_f1, rf_fs_cm = kp.test_model(model, X_train_fs, y_train_fs, X_test_fs, y_test_fs)"
   ]
  },
  {
   "cell_type": "code",
   "execution_count": null,
   "id": "executive-fever",
   "metadata": {},
   "outputs": [],
   "source": [
    "print('Accuracy score: ', rf_fs_acc*100)\n",
    "print('Recall score: ', rf_fs_rec*100)\n",
    "print('Precision score: ', rf_fs_prec*100)\n",
    "print('F1 score: ', rf_fs_f1*100)\n",
    "sns.heatmap(rf_fs_cm, annot=True, fmt='d')\n",
    "plt.savefig('study_case/rf_fs_cm.png')"
   ]
  },
  {
   "cell_type": "markdown",
   "id": "relative-parallel",
   "metadata": {},
   "source": [
    "## *Naive Bayes*"
   ]
  },
  {
   "cell_type": "code",
   "execution_count": null,
   "id": "artificial-mitchell",
   "metadata": {},
   "outputs": [],
   "source": [
    "# train naive bayes model all features\n",
    "nb_res_all = kp.train_model_nb(X_train_all, y_train_all)"
   ]
  },
  {
   "cell_type": "markdown",
   "id": "global-verse",
   "metadata": {},
   "source": [
    "59,203%"
   ]
  },
  {
   "cell_type": "code",
   "execution_count": null,
   "id": "instructional-group",
   "metadata": {},
   "outputs": [],
   "source": [
    "model = GaussianNB()\n",
    "nb_all_acc, nb_all_rec, nb_all_prec, nb_all_f1, nb_all_cm = kp.test_model(model, X_train_all, y_train_all, X_test_all, y_test_all)"
   ]
  },
  {
   "cell_type": "code",
   "execution_count": null,
   "id": "seasonal-outline",
   "metadata": {},
   "outputs": [],
   "source": [
    "print('Accuracy score: ', nb_all_acc*100)\n",
    "print('Recall score: ', nb_all_rec*100)\n",
    "print('Precision score: ', nb_all_prec*100)\n",
    "print('F1 score: ', nb_all_f1*100)\n",
    "sns.heatmap(nb_all_cm, annot=True, fmt='d')\n",
    "plt.savefig('study_case/nb_all_cm.png')"
   ]
  },
  {
   "cell_type": "code",
   "execution_count": null,
   "id": "ambient-journalism",
   "metadata": {},
   "outputs": [],
   "source": [
    "# train naive bayes model selected features\n",
    "nb_res_fs = kp.train_model_nb(X_train_fs, y_train_fs)"
   ]
  },
  {
   "cell_type": "code",
   "execution_count": null,
   "id": "abstract-oracle",
   "metadata": {},
   "outputs": [],
   "source": [
    "model = GaussianNB()\n",
    "nb_fs_acc, nb_fs_rec, nb_fs_prec, nb_fs_f1, nb_fs_cm = kp.test_model(model, X_train_fs, y_train_fs, X_test_fs, y_test_fs)"
   ]
  },
  {
   "cell_type": "code",
   "execution_count": null,
   "id": "acquired-magnet",
   "metadata": {},
   "outputs": [],
   "source": [
    "print('Accuracy score: ', nb_fs_acc*100)\n",
    "print('Recall score: ', nb_fs_rec*100)\n",
    "print('Precision score: ',nb_fs_prec*100)\n",
    "print('F1 score: ',nb_fs_f1*100)\n",
    "sns.heatmap(nb_fs_cm, annot=True, fmt='d')\n",
    "plt.savefig('study_case/nb_fs_cm.png')"
   ]
  },
  {
   "cell_type": "markdown",
   "id": "informed-textbook",
   "metadata": {},
   "source": [
    "## *Logistic Regression Classification*"
   ]
  },
  {
   "cell_type": "code",
   "execution_count": null,
   "id": "seeing-oliver",
   "metadata": {},
   "outputs": [],
   "source": [
    "# train logistic regressions model all features\n",
    "lr_res_all, lr_scores_all = kp.train_model_lr(X_train_all, y_train_all)"
   ]
  },
  {
   "cell_type": "markdown",
   "id": "vanilla-chapter",
   "metadata": {},
   "source": [
    "parameter terbaik newton-cg dengan akurasi 72,029%"
   ]
  },
  {
   "cell_type": "code",
   "execution_count": null,
   "id": "manual-scholar",
   "metadata": {},
   "outputs": [],
   "source": [
    "model = LogisticRegression(solver='newton-cg')\n",
    "lr_all_acc, lr_all_rec, lr_all_prec, lr_all_f1, lr_all_cm = kp.test_model(model, X_train_all, y_train_all, X_test_all, y_test_all)"
   ]
  },
  {
   "cell_type": "code",
   "execution_count": null,
   "id": "overall-jersey",
   "metadata": {},
   "outputs": [],
   "source": [
    "print('Accuracy score: ', lr_all_acc*100)\n",
    "print('Recall score: ', lr_all_rec*100)\n",
    "print('Precision score: ', lr_all_prec*100)\n",
    "print('F1 score: ', lr_all_f1*100)\n",
    "sns.heatmap(lr_all_cm, annot=True, fmt='d')\n",
    "plt.savefig('study_case/lr_all_cm.png')"
   ]
  },
  {
   "cell_type": "code",
   "execution_count": null,
   "id": "removed-stamp",
   "metadata": {},
   "outputs": [],
   "source": [
    "# train logistic regressions model selected features\n",
    "lr_res_fs = kp.train_model_lr(X_train_fs, y_train_fs)"
   ]
  },
  {
   "cell_type": "markdown",
   "id": "heavy-therapy",
   "metadata": {},
   "source": [
    "Didapatkan skor validasi 74,167%"
   ]
  },
  {
   "cell_type": "code",
   "execution_count": null,
   "id": "western-slovenia",
   "metadata": {},
   "outputs": [],
   "source": [
    "model = LogisticRegression(solver='liblinear', random_state=1)\n",
    "lr_fs_acc, lr_fs_rec, lr_fs_prec, lr_fs_f1, lr_fs_cm = kp.test_model(model, X_train_fs, y_train_fs, X_test_fs, y_test_fs)"
   ]
  },
  {
   "cell_type": "code",
   "execution_count": null,
   "id": "monthly-champion",
   "metadata": {},
   "outputs": [],
   "source": [
    "print('Accuracy score: ', lr_fs_acc*100)\n",
    "print('Recall score: ', lr_fs_rec*100)\n",
    "print('Precision score: ', lr_fs_prec*100)\n",
    "print('F1 score: ', lr_fs_f1*100)\n",
    "sns.heatmap(lr_fs_cm, annot=True, fmt='d')\n",
    "plt.savefig('study_case/lr_fs_cm.png')"
   ]
  },
  {
   "cell_type": "markdown",
   "id": "happy-citizenship",
   "metadata": {},
   "source": [
    "## *Support Vector Machine Classification*"
   ]
  },
  {
   "cell_type": "code",
   "execution_count": null,
   "id": "roman-lover",
   "metadata": {},
   "outputs": [],
   "source": [
    "# train support vector machine model all features\n",
    "svc_res_all, svc_scores_all = kp.train_model_svc(X_train_all, y_train_all)"
   ]
  },
  {
   "cell_type": "markdown",
   "id": "pleasant-imagination",
   "metadata": {},
   "source": [
    "Ditemukan skor validasi 71,775%"
   ]
  },
  {
   "cell_type": "code",
   "execution_count": null,
   "id": "absolute-keeping",
   "metadata": {},
   "outputs": [],
   "source": [
    "model = SVC(gamma='auto', kernel='linear', random_state=1)\n",
    "svc_all_acc, svc_all_rec, svc_all_prec, svc_all_f1, svc_all_cm = kp.test_model(model, X_train_all, y_train_all, X_test_all, y_test_all)"
   ]
  },
  {
   "cell_type": "code",
   "execution_count": null,
   "id": "impaired-sheriff",
   "metadata": {},
   "outputs": [],
   "source": [
    "print('Accuracy score: ', svc_all_acc*100)\n",
    "print('Recall score: ', svc_all_rec*100)\n",
    "print('Precision score: ', svc_all_prec*100)\n",
    "print('F1 score: ', svc_all_f1*100)\n",
    "sns.heatmap(svc_all_cm, annot=True, fmt='d')\n",
    "plt.savefig('study_case/svc_all_cm.png')"
   ]
  },
  {
   "cell_type": "code",
   "execution_count": null,
   "id": "bibliographic-hacker",
   "metadata": {},
   "outputs": [],
   "source": [
    "# train support vector machine model selected features\n",
    "svc_res_fs, svc_scores_fs = kp.train_model_svc(X_train_fs, y_train_fs)"
   ]
  },
  {
   "cell_type": "markdown",
   "id": "eligible-corrections",
   "metadata": {},
   "source": [
    "Ditemukan skor validasi 70,145%"
   ]
  },
  {
   "cell_type": "code",
   "execution_count": null,
   "id": "suitable-holiday",
   "metadata": {},
   "outputs": [],
   "source": [
    "model = SVC(kernel='poly', degree=2, coef0=3, random_state=1)\n",
    "svc_fs_acc, svc_fs_rec, svc_fs_prec, svc_fs_f1, svc_fs_cm = kp.test_model(model, X_train_fs, y_train_fs, X_test_fs, y_test_fs)"
   ]
  },
  {
   "cell_type": "code",
   "execution_count": null,
   "id": "nervous-music",
   "metadata": {},
   "outputs": [],
   "source": [
    "print('Accuracy score: ', svc_fs_acc*100)\n",
    "print('Recall score: ', svc_fs_rec*100)\n",
    "print('Precision score: ', svc_fs_prec*100)\n",
    "print('F1 score: ', svc_fs_f1*100)\n",
    "sns.heatmap(svc_fs_cm, annot=True, fmt='d')\n",
    "plt.savefig('study_case/svc_fs_cm.png')"
   ]
  },
  {
   "cell_type": "markdown",
   "id": "technical-emergency",
   "metadata": {},
   "source": [
    "## *Artificial Neural Network*"
   ]
  },
  {
   "cell_type": "code",
   "execution_count": null,
   "id": "framed-heritage",
   "metadata": {},
   "outputs": [],
   "source": [
    "# fix random seed for reproducibility\n",
    "seed = 10\n",
    "np.random.seed(seed)"
   ]
  },
  {
   "cell_type": "code",
   "execution_count": null,
   "id": "loving-broad",
   "metadata": {},
   "outputs": [],
   "source": [
    "# load diabetic retinopathy debrecen dataset\n",
    "dr_data = np.loadtxt(\"study_case/dr_norm2.csv\", delimiter=\",\")"
   ]
  },
  {
   "cell_type": "code",
   "execution_count": null,
   "id": "smooth-journalism",
   "metadata": {},
   "outputs": [],
   "source": [
    "dr_data"
   ]
  },
  {
   "cell_type": "code",
   "execution_count": null,
   "id": "advised-ghana",
   "metadata": {},
   "outputs": [],
   "source": [
    "X = dr_data[:,:-1]\n",
    "y = dr_data[:,-1]"
   ]
  },
  {
   "cell_type": "code",
   "execution_count": null,
   "id": "opening-surgery",
   "metadata": {},
   "outputs": [],
   "source": [
    "from tensorflow import keras\n",
    "from tensorflow.keras.utils import plot_model"
   ]
  },
  {
   "cell_type": "code",
   "execution_count": null,
   "id": "operational-eugene",
   "metadata": {},
   "outputs": [],
   "source": [
    "X_dum, X_test, y_dum, y_test = train_test_split(X, y, test_size=0.2, stratify=np.array(y), random_state=1)\n",
    "X_train, X_val, y_train, y_val = train_test_split(X, y, test_size=0.2, stratify=np.array(y), random_state=12)"
   ]
  },
  {
   "cell_type": "markdown",
   "id": "advised-domain",
   "metadata": {},
   "source": [
    "### *Functional* API"
   ]
  },
  {
   "cell_type": "code",
   "execution_count": null,
   "id": "mighty-ranch",
   "metadata": {},
   "outputs": [],
   "source": [
    "# create a model \n",
    "func_model = kp.build_ann()"
   ]
  },
  {
   "cell_type": "code",
   "execution_count": null,
   "id": "caroline-spain",
   "metadata": {},
   "outputs": [],
   "source": [
    "func_model.summary()"
   ]
  },
  {
   "cell_type": "code",
   "execution_count": null,
   "id": "violent-airport",
   "metadata": {},
   "outputs": [],
   "source": [
    "from tensorflow.keras.callbacks import EarlyStopping, ModelCheckpoint"
   ]
  },
  {
   "cell_type": "code",
   "execution_count": null,
   "id": "laughing-cleaners",
   "metadata": {},
   "outputs": [],
   "source": [
    "func_model.save('func_model.h5')\n",
    "\n",
    "checkpoint = ModelCheckpoint('func_model.h5', save_best_only=True)\n",
    "early_stopping = EarlyStopping(patience=10, restore_best_weights=True)"
   ]
  },
  {
   "cell_type": "code",
   "execution_count": null,
   "id": "challenging-fusion",
   "metadata": {},
   "outputs": [],
   "source": [
    "history = func_model.fit(x = X_train, y=y_train,\n",
    "                        validation_data=(X_val, y_val),\n",
    "                        batch_size=8, epochs=500, \n",
    "                        callbacks=[checkpoint, early_stopping],\n",
    "                        verbose=1)"
   ]
  },
  {
   "cell_type": "code",
   "execution_count": null,
   "id": "insured-fusion",
   "metadata": {},
   "outputs": [],
   "source": [
    "# evaluate the model\n",
    "scores = func_model.evaluate(X_train, y_train)\n",
    "print('%s: %.2f%%' % (func_model.metrics_names[1], scores[1]*100))"
   ]
  },
  {
   "cell_type": "code",
   "execution_count": null,
   "id": "invalid-panama",
   "metadata": {},
   "outputs": [],
   "source": [
    "epoch_list = list(range(1,59)) # EPOCH = 150\n",
    "y_train_acc = history.history['accuracy']\n",
    "y_val_acc = history.history['val_accuracy']\n",
    "y_train_loss = history.history['loss']\n",
    "y_val_loss = history.history['val_loss']\n",
    "\n",
    "f, (ax1, ax2) = plt.subplots(1, 2, figsize=(20,8))\n",
    "t = f.suptitle('Artificial Neural Network', fontsize=12)\n",
    "\n",
    "ax1.plot(epoch_list, y_train_acc, label='Train Accuracy')\n",
    "ax1.plot(epoch_list, y_val_acc, label='Validation Accuracy')\n",
    "ax1.set_xticks(np.arange(0, 59, 2))\n",
    "#ax1.set_ylim(0.2,1)\n",
    "ax1.set_ylabel('Accuracy Value')\n",
    "ax1.set_xlabel('Epoch')\n",
    "ax1.set_title('Accuracy')\n",
    "l1 = ax1.legend(loc=\"best\")\n",
    "\n",
    "ax2.plot(epoch_list, y_train_loss, label='Train Loss')\n",
    "ax2.plot(epoch_list, y_val_loss, label='Validation Loss')\n",
    "ax2.set_xticks(np.arange(0, 59, 2))\n",
    "#ax2.set_ylim(0,1)\n",
    "ax2.set_ylabel('Cross Entropy')\n",
    "ax2.set_xlabel('Epoch')\n",
    "ax2.set_title('Loss')\n",
    "l2 = ax2.legend(loc=\"best\")\n",
    "\n",
    "#plt.savefig('study_case/acc_loss2.png')"
   ]
  },
  {
   "cell_type": "code",
   "execution_count": null,
   "id": "auburn-actress",
   "metadata": {},
   "outputs": [],
   "source": [
    "func_acc, func_rec, func_prec, func_f1, func_cm = kp.test_ann_model(func_model, X_train, y_train, X_test, y_test)"
   ]
  },
  {
   "cell_type": "code",
   "execution_count": null,
   "id": "respective-witness",
   "metadata": {},
   "outputs": [],
   "source": [
    "print('Accuracy: %.3f ' % (func_acc*100))\n",
    "print('Precision: %.3f ' % (func_rec*100))\n",
    "print('Recall: %.3f ' % (func_prec*100))\n",
    "print('F1 Score: %.3f ' % (func_f1*100))\n",
    "sns.heatmap(func_cm, annot=True, fmt='d')\n",
    "#plt.savefig('study_case/func_ann_cm.png')"
   ]
  },
  {
   "cell_type": "code",
   "execution_count": null,
   "id": "starting-president",
   "metadata": {},
   "outputs": [],
   "source": [
    "plot_model(func_model, to_file='funcAPI.png', show_shapes=True)"
   ]
  }
 ],
 "metadata": {
  "kernelspec": {
   "display_name": "Python 3",
   "language": "python",
   "name": "python3"
  },
  "language_info": {
   "codemirror_mode": {
    "name": "ipython",
    "version": 3
   },
   "file_extension": ".py",
   "mimetype": "text/x-python",
   "name": "python",
   "nbconvert_exporter": "python",
   "pygments_lexer": "ipython3",
   "version": "3.8.8"
  }
 },
 "nbformat": 4,
 "nbformat_minor": 5
}
